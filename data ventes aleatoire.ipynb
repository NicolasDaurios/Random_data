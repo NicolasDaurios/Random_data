{
 "cells": [
  {
   "cell_type": "code",
   "execution_count": 1,
   "id": "8f104832-a442-4742-b523-9f7a0f42985f",
   "metadata": {},
   "outputs": [
    {
     "name": "stdout",
     "output_type": "stream",
     "text": [
      "   id_produit   produit  prix_produit  quantites_vendues  quantite_en_stock\n",
      "0           1  prod BRX        116.00                 45                 21\n",
      "1           2  prod HXN        109.81                 83                 54\n",
      "2           3  prod MWZ         96.48                 60                 51\n",
      "3           4  prod KCX        135.79                 23                 80\n",
      "4           5  prod SRC         84.79                114                 64\n"
     ]
    }
   ],
   "source": [
    "import pandas as pd\n",
    "import random\n",
    "import string\n",
    "\n",
    "# Fonction pour générer des noms du type \"prod ABC\"\n",
    "def generate_product_name():\n",
    "    letters = ''.join(random.choices(string.ascii_uppercase, k=3))\n",
    "    return f\"prod {letters}\"\n",
    "\n",
    "# Liste d'IDs uniques de 1 à 100\n",
    "id_produits = list(range(1, 101))\n",
    "\n",
    "# Génération du DataFrame\n",
    "data = {\n",
    "    \"id_produit\": id_produits,\n",
    "    \"produit\": [generate_product_name() for _ in range(100)],\n",
    "    \"prix_produit\": [round(random.uniform(50, 200), 2) for _ in range(100)],\n",
    "    \"quantites_vendues\": [random.randint(0, 150) for _ in range(100)],\n",
    "    \"quantite_en_stock\": [random.randint(1, 80) for _ in range(100)],\n",
    "}\n",
    "\n",
    "df = pd.DataFrame(data)\n",
    "\n",
    "# Aperçu\n",
    "print(df.head())\n",
    "\n",
    "# Export CSV si besoin\n",
    "df.to_csv(\"jeu_donnees_aleatoire.csv\", index=False, sep=\";\")\n"
   ]
  }
 ],
 "metadata": {
  "kernelspec": {
   "display_name": "Python 3 (ipykernel)",
   "language": "python",
   "name": "python3"
  },
  "language_info": {
   "codemirror_mode": {
    "name": "ipython",
    "version": 3
   },
   "file_extension": ".py",
   "mimetype": "text/x-python",
   "name": "python",
   "nbconvert_exporter": "python",
   "pygments_lexer": "ipython3",
   "version": "3.12.7"
  }
 },
 "nbformat": 4,
 "nbformat_minor": 5
}
